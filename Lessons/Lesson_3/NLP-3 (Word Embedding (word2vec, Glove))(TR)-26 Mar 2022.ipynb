{
 "cells": [
  {
   "cell_type": "markdown",
   "metadata": {},
   "source": [
    "## Word_embedding"
   ]
  },
  {
   "cell_type": "markdown",
   "metadata": {},
   "source": [
    "## Word2Vec"
   ]
  },
  {
   "cell_type": "code",
   "execution_count": 1,
   "metadata": {},
   "outputs": [],
   "source": [
    "# pip install gensim"
   ]
  },
  {
   "cell_type": "code",
   "execution_count": 2,
   "metadata": {},
   "outputs": [],
   "source": [
    "import numpy as np\n",
    "from gensim.models import Word2Vec"
   ]
  },
  {
   "cell_type": "code",
   "execution_count": 3,
   "metadata": {},
   "outputs": [],
   "source": [
    "text = open('newspaper.txt', 'r', encoding='utf8')\n",
    "text = text.read()\n",
    "list_sent = text.split('\\n')\n",
    "\n",
    "corpus = []\n",
    "\n",
    "for sent in list_sent:\n",
    "    corpus.append(sent.split())"
   ]
  },
  {
   "cell_type": "code",
   "execution_count": 4,
   "metadata": {},
   "outputs": [
    {
     "data": {
      "text/plain": [
       "'iran devlet televizyonu ülkedeki eyaletin sinde yapılan reformcuları protesto amaçlı yürüyüşlere milyonlarca kişinin katıldığını bildirdi \\ngösterilerde fitnecilere ölüm münafıklara ölüm abd ye ölüm ingiltere ye ölüm sloganları atıldı \\ndini lider ali hamaney ve cumhurbaşkanı mahmud ahmedinejad ı destekleyen iranlılar son olaylarda yeğeni öldürülen mir hüseyin musevi başta olmak üzere muhalefet liderlerini kınadılar \\nmusevi ye ölüm ve idam idam sloganları duyuldu \\nmuhalefet liderleri kaçtı mı aşure günü yaşanan çatışmalarda devlet kaynaklarına göre u terörist olmak üzere kişi ölmüştü \\nden fazla kişinin yaralandığı olaylar sırasında en az kişi tutuklanmıştı \\nöte yandan iran haber ajansı irna muhalif liderler mir hüseyin musevi ve mehdi kerrubi nin başkentten kaçarak ülkenin kuzeyine geçtiğini ileri sürdü ancak muhalefet iddiayı yalanladı \\nhamaney in bir dönem korumalığını yapan ve şu anda fransa da saklandığı söylenen bir kişinin muhalefete verdiği bilgilere göre münzevi yaşamı na rağmen '"
      ]
     },
     "execution_count": 4,
     "metadata": {},
     "output_type": "execute_result"
    }
   ],
   "source": [
    "text[:1000]"
   ]
  },
  {
   "cell_type": "code",
   "execution_count": 5,
   "metadata": {},
   "outputs": [
    {
     "data": {
      "text/plain": [
       "['iran devlet televizyonu ülkedeki eyaletin sinde yapılan reformcuları protesto amaçlı yürüyüşlere milyonlarca kişinin katıldığını bildirdi ',\n",
       " 'gösterilerde fitnecilere ölüm münafıklara ölüm abd ye ölüm ingiltere ye ölüm sloganları atıldı ',\n",
       " 'dini lider ali hamaney ve cumhurbaşkanı mahmud ahmedinejad ı destekleyen iranlılar son olaylarda yeğeni öldürülen mir hüseyin musevi başta olmak üzere muhalefet liderlerini kınadılar ',\n",
       " 'musevi ye ölüm ve idam idam sloganları duyuldu ',\n",
       " 'muhalefet liderleri kaçtı mı aşure günü yaşanan çatışmalarda devlet kaynaklarına göre u terörist olmak üzere kişi ölmüştü ',\n",
       " 'den fazla kişinin yaralandığı olaylar sırasında en az kişi tutuklanmıştı ',\n",
       " 'öte yandan iran haber ajansı irna muhalif liderler mir hüseyin musevi ve mehdi kerrubi nin başkentten kaçarak ülkenin kuzeyine geçtiğini ileri sürdü ancak muhalefet iddiayı yalanladı ',\n",
       " 'hamaney in bir dönem korumalığını yapan ve şu anda fransa da saklandığı söylenen bir kişinin muhalefete verdiği bilgilere göre münzevi yaşamı na rağmen dini liderin havyara karşı korkunç bir iştahı var ',\n",
       " 'baston ve at meraklısı hamaney aynı zamanda değerli mücevherlerle bezenmiş bastonların ve cins atların koleksiyonunu yapıyor ',\n",
       " 'hamaney in antika bastonlarının sayısı ']"
      ]
     },
     "execution_count": 5,
     "metadata": {},
     "output_type": "execute_result"
    }
   ],
   "source": [
    "list_sent[:10]"
   ]
  },
  {
   "cell_type": "code",
   "execution_count": 6,
   "metadata": {},
   "outputs": [
    {
     "data": {
      "text/plain": [
       "['iran',\n",
       " 'devlet',\n",
       " 'televizyonu',\n",
       " 'ülkedeki',\n",
       " 'eyaletin',\n",
       " 'sinde',\n",
       " 'yapılan',\n",
       " 'reformcuları',\n",
       " 'protesto',\n",
       " 'amaçlı',\n",
       " 'yürüyüşlere',\n",
       " 'milyonlarca',\n",
       " 'kişinin',\n",
       " 'katıldığını',\n",
       " 'bildirdi']"
      ]
     },
     "execution_count": 6,
     "metadata": {},
     "output_type": "execute_result"
    }
   ],
   "source": [
    "list_sent[0].split()"
   ]
  },
  {
   "cell_type": "code",
   "execution_count": 7,
   "metadata": {},
   "outputs": [
    {
     "name": "stdout",
     "output_type": "stream",
     "text": [
      "[['iran', 'devlet', 'televizyonu', 'ülkedeki', 'eyaletin', 'sinde', 'yapılan', 'reformcuları', 'protesto', 'amaçlı', 'yürüyüşlere', 'milyonlarca', 'kişinin', 'katıldığını', 'bildirdi'], ['gösterilerde', 'fitnecilere', 'ölüm', 'münafıklara', 'ölüm', 'abd', 'ye', 'ölüm', 'ingiltere', 'ye', 'ölüm', 'sloganları', 'atıldı'], ['dini', 'lider', 'ali', 'hamaney', 've', 'cumhurbaşkanı', 'mahmud', 'ahmedinejad', 'ı', 'destekleyen', 'iranlılar', 'son', 'olaylarda', 'yeğeni', 'öldürülen', 'mir', 'hüseyin', 'musevi', 'başta', 'olmak', 'üzere', 'muhalefet', 'liderlerini', 'kınadılar'], ['musevi', 'ye', 'ölüm', 've', 'idam', 'idam', 'sloganları', 'duyuldu'], ['muhalefet', 'liderleri', 'kaçtı', 'mı', 'aşure', 'günü', 'yaşanan', 'çatışmalarda', 'devlet', 'kaynaklarına', 'göre', 'u', 'terörist', 'olmak', 'üzere', 'kişi', 'ölmüştü'], ['den', 'fazla', 'kişinin', 'yaralandığı', 'olaylar', 'sırasında', 'en', 'az', 'kişi', 'tutuklanmıştı'], ['öte', 'yandan', 'iran', 'haber', 'ajansı', 'irna', 'muhalif', 'liderler', 'mir', 'hüseyin', 'musevi', 've', 'mehdi', 'kerrubi', 'nin', 'başkentten', 'kaçarak', 'ülkenin', 'kuzeyine', 'geçtiğini', 'ileri', 'sürdü', 'ancak', 'muhalefet', 'iddiayı', 'yalanladı'], ['hamaney', 'in', 'bir', 'dönem', 'korumalığını', 'yapan', 've', 'şu', 'anda', 'fransa', 'da', 'saklandığı', 'söylenen', 'bir', 'kişinin', 'muhalefete', 'verdiği', 'bilgilere', 'göre', 'münzevi', 'yaşamı', 'na', 'rağmen', 'dini', 'liderin', 'havyara', 'karşı', 'korkunç', 'bir', 'iştahı', 'var'], ['baston', 've', 'at', 'meraklısı', 'hamaney', 'aynı', 'zamanda', 'değerli', 'mücevherlerle', 'bezenmiş', 'bastonların', 've', 'cins', 'atların', 'koleksiyonunu', 'yapıyor'], ['hamaney', 'in', 'antika', 'bastonlarının', 'sayısı']]\n"
     ]
    }
   ],
   "source": [
    "print(corpus[:10])"
   ]
  },
  {
   "cell_type": "code",
   "execution_count": null,
   "metadata": {},
   "outputs": [],
   "source": []
  },
  {
   "cell_type": "code",
   "execution_count": 8,
   "metadata": {},
   "outputs": [],
   "source": [
    "model = Word2Vec(corpus, size=100, window=5, min_count=5, sg=1)"
   ]
  },
  {
   "cell_type": "code",
   "execution_count": 9,
   "metadata": {},
   "outputs": [
    {
     "data": {
      "text/plain": [
       "array([ 0.28217924,  0.16531119, -0.16471666, -0.05895628, -0.02606362,\n",
       "        0.00791687,  0.00321149,  0.46223375,  0.1400612 , -0.25810117,\n",
       "        0.09864391, -0.71330756, -0.26317605, -0.16120598, -0.6148293 ,\n",
       "        0.10216376, -0.17879976, -0.5341073 , -0.18080308, -0.03437465,\n",
       "       -0.3629723 , -0.5805339 ,  0.17517376, -0.22676924, -0.10460117,\n",
       "       -0.14536485, -0.3058267 , -0.09443143, -0.06910472,  0.8208352 ,\n",
       "        0.44363418,  0.16989139,  0.13532332, -0.03182735,  0.02672669,\n",
       "       -0.09820661, -0.54740524,  0.2494628 , -0.2121178 ,  0.05324606,\n",
       "       -0.07193967,  0.65916115, -0.4551725 ,  0.16642651,  0.12621738,\n",
       "       -0.35641447, -0.14480068,  0.14348252,  0.05410026,  0.50777143,\n",
       "       -0.28843743, -0.62839353,  0.07999117, -0.02725016,  0.4889934 ,\n",
       "       -0.10930897,  0.20048201, -0.56499135,  0.85182005,  0.24248925,\n",
       "       -0.09024525, -0.07321922, -0.03803238,  0.04449771,  0.26287046,\n",
       "       -0.11018717,  0.37467387,  0.5947802 , -0.44046584,  0.12361155,\n",
       "        0.54044336, -0.4014421 , -0.54128724, -0.44200435, -0.18385027,\n",
       "        0.37392756, -0.0481265 , -0.5445239 , -0.24299535, -0.52239674,\n",
       "       -0.21544155,  0.03624937,  0.16756803, -0.2373491 ,  0.06881052,\n",
       "        0.25426733, -0.3144435 , -0.24790236, -0.2198077 , -0.79129475,\n",
       "        0.28274438,  0.4526285 ,  0.16939473,  0.32626286,  0.18537723,\n",
       "       -0.3251953 , -0.09176803,  0.262969  , -0.21386811, -0.12631707],\n",
       "      dtype=float32)"
      ]
     },
     "execution_count": 9,
     "metadata": {},
     "output_type": "execute_result"
    }
   ],
   "source": [
    "model.wv['ankara']"
   ]
  },
  {
   "cell_type": "code",
   "execution_count": 10,
   "metadata": {},
   "outputs": [
    {
     "data": {
      "text/plain": [
       "[('birşey', 0.8002350926399231),\n",
       " ('şeyin', 0.7672483325004578),\n",
       " ('şeyim', 0.7592860460281372),\n",
       " ('şeyler', 0.7530828714370728),\n",
       " ('şeyle', 0.751874566078186),\n",
       " ('şeyimiz', 0.7459698915481567),\n",
       " ('şeyi', 0.7346823215484619),\n",
       " ('haberim', 0.7239826917648315),\n",
       " ('bilgimiz', 0.7219926714897156),\n",
       " ('sorunum', 0.7182484865188599)]"
      ]
     },
     "execution_count": 10,
     "metadata": {},
     "output_type": "execute_result"
    }
   ],
   "source": [
    "model.wv.most_similar('şey')"
   ]
  },
  {
   "cell_type": "code",
   "execution_count": 11,
   "metadata": {},
   "outputs": [
    {
     "data": {
      "text/plain": [
       "[('çizgileri', 0.7133355140686035),\n",
       " ('gömlekliler', 0.6443299055099487),\n",
       " ('ışıkta', 0.627669095993042),\n",
       " ('turuncu', 0.6223363876342773),\n",
       " ('bülten', 0.6150221824645996),\n",
       " ('gömlekli', 0.6131349802017212),\n",
       " ('gömleklilerin', 0.6086685657501221),\n",
       " ('bültenle', 0.6041914224624634),\n",
       " ('halıdan', 0.5888624787330627),\n",
       " ('halıda', 0.5877746939659119)]"
      ]
     },
     "execution_count": 11,
     "metadata": {},
     "output_type": "execute_result"
    }
   ],
   "source": [
    "model.wv.most_similar('kırmızı')"
   ]
  },
  {
   "cell_type": "code",
   "execution_count": 12,
   "metadata": {},
   "outputs": [
    {
     "data": {
      "text/plain": [
       "[('evine', 0.8499783277511597),\n",
       " ('dükkana', 0.776181161403656),\n",
       " ('apartmana', 0.7696876525878906),\n",
       " ('mağazaya', 0.7625304460525513),\n",
       " ('arabaya', 0.7488479614257812),\n",
       " ('hapishaneye', 0.7246628999710083),\n",
       " ('odasına', 0.7235920429229736),\n",
       " ('köye', 0.7233304977416992),\n",
       " ('karakola', 0.7176992893218994),\n",
       " ('arabadan', 0.7165572643280029)]"
      ]
     },
     "execution_count": 12,
     "metadata": {},
     "output_type": "execute_result"
    }
   ],
   "source": [
    "model.wv.most_similar('eve')"
   ]
  },
  {
   "cell_type": "code",
   "execution_count": 13,
   "metadata": {},
   "outputs": [
    {
     "data": {
      "text/plain": [
       "[('marmara', 0.8945493698120117),\n",
       " ('baskınıyla', 0.6603778600692749),\n",
       " ('gemisine', 0.660006046295166),\n",
       " ('baskınına', 0.6463791728019714),\n",
       " ('baskınının', 0.6270555853843689),\n",
       " ('dökme', 0.6210524439811707),\n",
       " ('filosundaki', 0.6188602447509766),\n",
       " ('filodaki', 0.6139384508132935),\n",
       " ('filo', 0.6117265224456787),\n",
       " ('gazze', 0.5938047170639038)]"
      ]
     },
     "execution_count": 13,
     "metadata": {},
     "output_type": "execute_result"
    }
   ],
   "source": [
    "model.wv.most_similar('mavi')"
   ]
  },
  {
   "cell_type": "code",
   "execution_count": 14,
   "metadata": {},
   "outputs": [
    {
     "data": {
      "text/plain": [
       "[('kaliteli', 0.6552212238311768)]"
      ]
     },
     "execution_count": 14,
     "metadata": {},
     "output_type": "execute_result"
    }
   ],
   "source": [
    "model.wv.most_similar(positive=['öğrenme', 'doktor'], negative=['tedavi'], topn=1)"
   ]
  },
  {
   "cell_type": "code",
   "execution_count": 15,
   "metadata": {},
   "outputs": [
    {
     "data": {
      "text/plain": [
       "[('türkiye', 0.7180782556533813)]"
      ]
     },
     "execution_count": 15,
     "metadata": {},
     "output_type": "execute_result"
    }
   ],
   "source": [
    "model.wv.most_similar(positive=['ankara', 'rusya'], negative=['moskova'], topn=1)"
   ]
  },
  {
   "cell_type": "code",
   "execution_count": 16,
   "metadata": {},
   "outputs": [],
   "source": [
    "model.save(\"word2vec.model\")"
   ]
  },
  {
   "cell_type": "code",
   "execution_count": 17,
   "metadata": {},
   "outputs": [],
   "source": [
    "model = Word2Vec.load(\"word2vec.model\")"
   ]
  },
  {
   "cell_type": "markdown",
   "metadata": {},
   "source": [
    "## Glove"
   ]
  },
  {
   "cell_type": "code",
   "execution_count": 18,
   "metadata": {},
   "outputs": [],
   "source": [
    "from gensim.scripts.glove2word2vec import glove2word2vec\n",
    "from gensim.models import KeyedVectors"
   ]
  },
  {
   "cell_type": "code",
   "execution_count": 19,
   "metadata": {},
   "outputs": [
    {
     "data": {
      "text/plain": [
       "(400000, 100)"
      ]
     },
     "execution_count": 19,
     "metadata": {},
     "output_type": "execute_result"
    }
   ],
   "source": [
    "glove_model = 'glove.6B.100d.txt'\n",
    "word2vec = 'glove.6B.100d.glove'\n",
    "glove2word2vec(glove_model, word2vec)"
   ]
  },
  {
   "cell_type": "code",
   "execution_count": 20,
   "metadata": {},
   "outputs": [],
   "source": [
    "model2 = KeyedVectors.load_word2vec_format(word2vec)"
   ]
  },
  {
   "cell_type": "code",
   "execution_count": 32,
   "metadata": {},
   "outputs": [
    {
     "data": {
      "text/plain": [
       "array([ 0.0021052, -0.1504   ,  0.44277  , -0.77653  ,  0.049685 ,\n",
       "        0.36162  , -0.64556  ,  0.031965 ,  0.32785  ,  1.0492   ,\n",
       "       -0.40957  , -0.43448  ,  0.86788  ,  0.13176  , -0.33421  ,\n",
       "        0.078688 , -0.44023  , -0.78494  , -0.80508  , -0.053829 ,\n",
       "        0.21349  , -0.1304   ,  0.55552  ,  0.80507  , -0.54116  ,\n",
       "        0.14223  , -0.086403 ,  0.049789 ,  0.16237  ,  0.51762  ,\n",
       "       -0.86124  , -0.35288  ,  0.42465  ,  0.29504  , -0.058929 ,\n",
       "       -0.042059 , -0.28304  ,  0.68163  , -0.38128  , -0.92071  ,\n",
       "        0.15022  , -0.48653  , -0.032471 , -1.0217   , -0.2536   ,\n",
       "        0.32984  ,  0.87331  , -0.25659  ,  0.41713  ,  0.70187  ,\n",
       "        0.26844  , -0.073702 ,  0.44943  ,  0.37148  , -1.1613   ,\n",
       "        0.18607  ,  0.22148  , -0.30284  , -0.30314  ,  0.14694  ,\n",
       "       -0.33141  ,  0.65478  , -0.047409 ,  0.73868  , -0.88869  ,\n",
       "       -0.10738  , -1.3663   , -0.40605  , -0.84452  ,  0.079424 ,\n",
       "       -0.57159  , -0.54494  ,  0.88383  ,  0.89814  , -0.65429  ,\n",
       "        0.60613  ,  0.32272  ,  0.14067  , -0.38329  ,  0.14519  ,\n",
       "       -0.16869  , -0.33883  , -0.49892  ,  0.76527  ,  0.65141  ,\n",
       "        0.08416  , -0.41384  ,  0.22261  ,  0.6159   , -0.39172  ,\n",
       "        1.4556   ,  0.31275  , -0.61297  , -0.63733  , -0.05102  ,\n",
       "        0.83986  , -0.33486  ,  0.68343  ,  0.80719  ,  0.17428  ],\n",
       "      dtype=float32)"
      ]
     },
     "execution_count": 32,
     "metadata": {},
     "output_type": "execute_result"
    }
   ],
   "source": [
    "model2['izmir']"
   ]
  },
  {
   "cell_type": "code",
   "execution_count": 33,
   "metadata": {},
   "outputs": [
    {
     "data": {
      "text/plain": [
       "[('turkey', 0.7512096762657166),\n",
       " ('istanbul', 0.6787630915641785),\n",
       " ('turkish', 0.6690374612808228),\n",
       " ('damascus', 0.6372509002685547),\n",
       " ('tbilisi', 0.6322182416915894),\n",
       " ('erdogan', 0.6258037686347961),\n",
       " ('moscow', 0.6217041015625),\n",
       " ('brussels', 0.6181437969207764),\n",
       " ('skopje', 0.6164302825927734),\n",
       " ('cyprus', 0.606403112411499)]"
      ]
     },
     "execution_count": 33,
     "metadata": {},
     "output_type": "execute_result"
    }
   ],
   "source": [
    "model2.most_similar('ankara')"
   ]
  },
  {
   "cell_type": "code",
   "execution_count": 23,
   "metadata": {},
   "outputs": [
    {
     "data": {
      "text/plain": [
       "[('student', 0.8083398938179016),\n",
       " ('school', 0.75455641746521),\n",
       " ('teaching', 0.7521439790725708),\n",
       " ('taught', 0.7411845922470093),\n",
       " ('teachers', 0.7291542887687683),\n",
       " ('graduate', 0.7134960293769836),\n",
       " ('instructor', 0.7077120542526245),\n",
       " ('students', 0.6828974485397339),\n",
       " ('teaches', 0.6552315950393677),\n",
       " ('education', 0.6528990268707275)]"
      ]
     },
     "execution_count": 23,
     "metadata": {},
     "output_type": "execute_result"
    }
   ],
   "source": [
    "model2.most_similar('teacher')"
   ]
  },
  {
   "cell_type": "raw",
   "metadata": {},
   "source": [
    "BERT models\n",
    "\n",
    "teacher    \n",
    "student    0.9222786\n",
    "school     0.9295052\n",
    "teaching   0.9878557\n",
    "taught     0.94827914\n",
    "teachers   0.96148443\n",
    "graduate   0.9457023\n",
    "instructor 0.84273684\n",
    "students   0.98318183\n",
    "teaches    0.9890878\n",
    "education  0.94292575"
   ]
  },
  {
   "cell_type": "code",
   "execution_count": 24,
   "metadata": {},
   "outputs": [
    {
     "data": {
      "text/plain": [
       "[('physician', 0.7673239707946777),\n",
       " ('nurse', 0.75215083360672),\n",
       " ('dr.', 0.7175193428993225),\n",
       " ('doctors', 0.7080885171890259),\n",
       " ('patient', 0.7074184417724609),\n",
       " ('medical', 0.6995993256568909),\n",
       " ('surgeon', 0.6905338764190674),\n",
       " ('hospital', 0.690092921257019),\n",
       " ('psychiatrist', 0.658909797668457),\n",
       " ('dentist', 0.6447421312332153)]"
      ]
     },
     "execution_count": 24,
     "metadata": {},
     "output_type": "execute_result"
    }
   ],
   "source": [
    "model2.most_similar('doctor')"
   ]
  },
  {
   "cell_type": "raw",
   "metadata": {},
   "source": [
    "BERT models\n",
    "\n",
    "doctor       \n",
    "physician    0.98596996\n",
    "nurse        0.75534743\n",
    "dr.          0.88797665\n",
    "doctors      0.9910818\n",
    "patient      0.98758376\n",
    "medical      0.97713757\n",
    "surgeon      0.95054865\n",
    "hospital     0.82682276\n",
    "psychiatrist 0.91220266"
   ]
  },
  {
   "cell_type": "code",
   "execution_count": 25,
   "metadata": {},
   "outputs": [
    {
     "data": {
      "text/plain": [
       "[('daughter', 0.8917792439460754)]"
      ]
     },
     "execution_count": 25,
     "metadata": {},
     "output_type": "execute_result"
    }
   ],
   "source": [
    "model2.most_similar(positive=['woman', 'brother'], negative=['man'], topn=1)"
   ]
  },
  {
   "cell_type": "code",
   "execution_count": 26,
   "metadata": {},
   "outputs": [
    {
     "data": {
      "text/plain": [
       "[('mother', 0.9024620056152344)]"
      ]
     },
     "execution_count": 26,
     "metadata": {},
     "output_type": "execute_result"
    }
   ],
   "source": [
    "model2.most_similar(positive=['woman', 'father'], negative=['man'], topn=1)"
   ]
  },
  {
   "cell_type": "code",
   "execution_count": 27,
   "metadata": {},
   "outputs": [
    {
     "data": {
      "text/plain": [
       "[('aunt', 0.8368030786514282)]"
      ]
     },
     "execution_count": 27,
     "metadata": {},
     "output_type": "execute_result"
    }
   ],
   "source": [
    "model2.most_similar(positive=['woman', 'uncle'], negative=['man'], topn=1)"
   ]
  },
  {
   "cell_type": "code",
   "execution_count": 28,
   "metadata": {},
   "outputs": [
    {
     "data": {
      "text/plain": [
       "[('turkey', 0.8147119283676147)]"
      ]
     },
     "execution_count": 28,
     "metadata": {},
     "output_type": "execute_result"
    }
   ],
   "source": [
    "model2.most_similar(positive=['ankara', 'germany'], negative=['berlin'], topn=1)"
   ]
  },
  {
   "cell_type": "code",
   "execution_count": 29,
   "metadata": {},
   "outputs": [
    {
     "data": {
      "text/plain": [
       "[('teacher', 0.7610154151916504)]"
      ]
     },
     "execution_count": 29,
     "metadata": {},
     "output_type": "execute_result"
    }
   ],
   "source": [
    "model2.most_similar(positive=['teach', 'doctor'], negative=['treat'], topn=1)"
   ]
  },
  {
   "cell_type": "code",
   "execution_count": 30,
   "metadata": {},
   "outputs": [
    {
     "data": {
      "text/plain": [
       "[('queen', 0.7698541283607483)]"
      ]
     },
     "execution_count": 30,
     "metadata": {},
     "output_type": "execute_result"
    }
   ],
   "source": [
    "model2.most_similar(positive=['woman', 'king'], negative=['man'], topn=1)"
   ]
  },
  {
   "cell_type": "code",
   "execution_count": 31,
   "metadata": {},
   "outputs": [
    {
     "data": {
      "text/plain": [
       "[('lover', 0.7032662630081177)]"
      ]
     },
     "execution_count": 31,
     "metadata": {},
     "output_type": "execute_result"
    }
   ],
   "source": [
    "model2.most_similar(positive=['love', 'jealous'], negative=['hate'], topn=1)"
   ]
  },
  {
   "cell_type": "code",
   "execution_count": null,
   "metadata": {},
   "outputs": [],
   "source": []
  }
 ],
 "metadata": {
  "kernelspec": {
   "display_name": "Python 3 (ipykernel)",
   "language": "python",
   "name": "python3"
  },
  "language_info": {
   "codemirror_mode": {
    "name": "ipython",
    "version": 3
   },
   "file_extension": ".py",
   "mimetype": "text/x-python",
   "name": "python",
   "nbconvert_exporter": "python",
   "pygments_lexer": "ipython3",
   "version": "3.7.9"
  }
 },
 "nbformat": 4,
 "nbformat_minor": 2
}
