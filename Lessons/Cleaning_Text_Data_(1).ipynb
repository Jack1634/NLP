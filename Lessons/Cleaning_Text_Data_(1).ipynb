{
 "cells": [
  {
   "cell_type": "markdown",
   "metadata": {
    "id": "vtvdO-g7eCtw"
   },
   "source": [
    "# Text Cleaning in Python"
   ]
  },
  {
   "cell_type": "code",
   "execution_count": null,
   "metadata": {
    "id": "N4vFQMEleCt0"
   },
   "outputs": [],
   "source": [
    "#warnings :)\n",
    "import warnings\n",
    "warnings.filterwarnings('ignore')"
   ]
  },
  {
   "cell_type": "code",
   "execution_count": null,
   "metadata": {
    "id": "-SvtwuKjeCt2"
   },
   "outputs": [],
   "source": [
    "#Creating bunch of sentences\n",
    "raw_docs = [\"I am writing some very basic english sentences\",\n",
    "\"I'm just writing it for the demo PURPOSE to make audience understand the basics .\",\n",
    "\"The point is to _learn HOW it works_ on #simple # data.\"]"
   ]
  },
  {
   "cell_type": "code",
   "execution_count": null,
   "metadata": {
    "id": "nxSBJVeweCt3"
   },
   "outputs": [],
   "source": [
    "#importing nltk package\n",
    "import nltk"
   ]
  },
  {
   "cell_type": "code",
   "execution_count": null,
   "metadata": {
    "id": "OSZfxQkeeCt4"
   },
   "outputs": [],
   "source": [
    "#nltk.download()\n",
    "\n",
    "#python -m nltk.downloader all"
   ]
  },
  {
   "cell_type": "markdown",
   "metadata": {
    "id": "g8TZwMmdeCt4"
   },
   "source": [
    "# Step 1 - convert to lower case"
   ]
  },
  {
   "cell_type": "code",
   "execution_count": null,
   "metadata": {
    "id": "yA_HWUJOeCt5",
    "outputId": "f7e106a9-083b-4a62-e92b-2334d7f9dccb"
   },
   "outputs": [
    {
     "name": "stdout",
     "output_type": "stream",
     "text": [
      "['i am writing some very basic english sentences', \"i'm just writing it for the demo purpose to make audience understand the basics .\", 'the point is to _learn how it works_ on #simple # data.']\n"
     ]
    }
   ],
   "source": [
    "import string\n",
    "raw_docs = [doc.lower() for doc in raw_docs]\n",
    "print(raw_docs)"
   ]
  },
  {
   "cell_type": "markdown",
   "metadata": {
    "id": "LI_R8UTceCt7"
   },
   "source": [
    "# Step 2 - Tokenization"
   ]
  },
  {
   "cell_type": "code",
   "execution_count": null,
   "metadata": {
    "id": "f-vmXvSveCt7",
    "outputId": "5ac0cf87-4c3f-424d-d565-5acdd8f22095"
   },
   "outputs": [
    {
     "name": "stdout",
     "output_type": "stream",
     "text": [
      "[['i', 'am', 'writing', 'some', 'very', 'basic', 'english', 'sentences'], ['i', \"'m\", 'just', 'writing', 'it', 'for', 'the', 'demo', 'purpose', 'to', 'make', 'audience', 'understand', 'the', 'basics', '.'], ['the', 'point', 'is', 'to', '_learn', 'how', 'it', 'works_', 'on', '#', 'simple', '#', 'data', '.']]\n",
      "#######################################################################################\n",
      "[['i am writing some very basic english sentences'], [\"i'm just writing it for the demo purpose to make audience understand the basics .\"], ['the point is to _learn how it works_ on #simple # data.']]\n"
     ]
    }
   ],
   "source": [
    "# word tokenize\n",
    "from nltk.tokenize import word_tokenize\n",
    "tokenized_docs = [word_tokenize(doc) for doc in raw_docs]\n",
    "print(tokenized_docs)\n",
    "\n",
    "print(\"#######################################################################################\")\n",
    "\n",
    "#Sentence tokenization\n",
    "\n",
    "from nltk.tokenize import sent_tokenize\n",
    "sent_token = [sent_tokenize(doc) for doc in raw_docs]\n",
    "print(sent_token)"
   ]
  },
  {
   "cell_type": "markdown",
   "metadata": {
    "id": "zb-7nB-meCt9"
   },
   "source": [
    "# Step 3 - Punctuation Removal"
   ]
  },
  {
   "cell_type": "code",
   "execution_count": null,
   "metadata": {
    "id": "1Hb3u6kdeCt-",
    "outputId": "1129b2c9-8e6e-46f8-a5c7-346439473d8e"
   },
   "outputs": [
    {
     "name": "stdout",
     "output_type": "stream",
     "text": [
      "[['i', 'am', 'writing', 'some', 'very', 'basic', 'english', 'sentences'], ['i', 'm', 'just', 'writing', 'it', 'for', 'the', 'demo', 'purpose', 'to', 'make', 'audience', 'understand', 'the', 'basics'], ['the', 'point', 'is', 'to', 'learn', 'how', 'it', 'works', 'on', 'simple', 'data']]\n"
     ]
    }
   ],
   "source": [
    "# Removing punctuation\n",
    "import re\n",
    "regex = re.compile('[%s]' % re.escape(string.punctuation)) #see documentation here: http://docs.python.org/2/library/string.html\n",
    "\n",
    "tokenized_docs_no_punctuation = []\n",
    "\n",
    "for review in tokenized_docs:\n",
    "    new_review = []\n",
    "    for token in review:\n",
    "        new_token = regex.sub(u'', token)\n",
    "        if not new_token == u'':\n",
    "            new_review.append(new_token)\n",
    "    \n",
    "    tokenized_docs_no_punctuation.append(new_review)\n",
    "    \n",
    "print(tokenized_docs_no_punctuation)"
   ]
  },
  {
   "cell_type": "markdown",
   "metadata": {
    "id": "1gTYMaDceCt_"
   },
   "source": [
    "# Step 4 - Removing Stopwords"
   ]
  },
  {
   "cell_type": "code",
   "execution_count": null,
   "metadata": {
    "id": "kkC5secceCt_",
    "outputId": "39ba4a4b-c82f-42a5-f511-3783f5bbd9ee"
   },
   "outputs": [
    {
     "name": "stdout",
     "output_type": "stream",
     "text": [
      "[['writing', 'basic', 'english', 'sentences'], ['writing', 'demo', 'purpose', 'make', 'audience', 'understand', 'basics'], ['point', 'learn', 'works', 'simple', 'data']]\n"
     ]
    }
   ],
   "source": [
    "# Cleaning text of stopwords\n",
    "from nltk.corpus import stopwords\n",
    "\n",
    "tokenized_docs_no_stopwords = []\n",
    "\n",
    "for doc in tokenized_docs_no_punctuation:\n",
    "    new_term_vector = []\n",
    "    for word in doc:\n",
    "        if not word in stopwords.words('english'):\n",
    "            new_term_vector.append(word)\n",
    "    \n",
    "    tokenized_docs_no_stopwords.append(new_term_vector)\n",
    "\n",
    "print(tokenized_docs_no_stopwords)"
   ]
  },
  {
   "cell_type": "markdown",
   "metadata": {
    "id": "d5oppCV9eCuA"
   },
   "source": [
    "# Step 5- Stemming and Lemmantization"
   ]
  },
  {
   "cell_type": "code",
   "execution_count": null,
   "metadata": {
    "id": "YxrIrwvVeCuA",
    "outputId": "0b5f5583-2ca8-4158-9283-a486cb05d58a"
   },
   "outputs": [
    {
     "name": "stdout",
     "output_type": "stream",
     "text": [
      "[['writing', 'basic', 'english', 'sentence'], ['writing', 'demo', 'purpose', 'make', 'audience', 'understand', 'basic'], ['point', 'learn', 'work', 'simple', 'data']]\n"
     ]
    }
   ],
   "source": [
    "# Stemming and Lemmatization\n",
    "from nltk.stem.porter import PorterStemmer\n",
    "from nltk.stem.wordnet import WordNetLemmatizer\n",
    "\n",
    "porter = PorterStemmer()\n",
    "wordnet = WordNetLemmatizer()\n",
    "\n",
    "preprocessed_docs = []\n",
    "\n",
    "for doc in tokenized_docs_no_stopwords:\n",
    "    final_doc = []\n",
    "    for word in doc:\n",
    "        #final_doc.append(porter.stem(word))\n",
    "        final_doc.append(wordnet.lemmatize(word))\n",
    "    \n",
    "    preprocessed_docs.append(final_doc)\n",
    "\n",
    "print(preprocessed_docs)"
   ]
  },
  {
   "cell_type": "markdown",
   "metadata": {
    "id": "vbKjnfRxeCuB"
   },
   "source": [
    "# Advance cleaning technique 1 - Normalization "
   ]
  },
  {
   "cell_type": "code",
   "execution_count": null,
   "metadata": {
    "id": "d0i3H9_AeCuB"
   },
   "outputs": [],
   "source": [
    "text = \"On the 30th Jan 2020,Corona virus hit India with 1st case in kerala  anywhere, G.O.I started acting and allocated fund of 17287 Crores I.N.R\""
   ]
  },
  {
   "cell_type": "code",
   "execution_count": null,
   "metadata": {
    "id": "HoCA4RMIeCuC",
    "outputId": "156047c8-b2ad-4a50-f964-fc8e43209b41"
   },
   "outputs": [
    {
     "data": {
      "text/plain": [
       "'Normalized text: On the thirtieth of Jan twenty twenty , Corona virus hit India with first case in kerala anywhere , Government Of India started acting and allocated fund of seventeen thousand, two hundred and eighty seven Crores Indian Rupees'"
      ]
     },
     "metadata": {},
     "output_type": "display_data"
    }
   ],
   "source": [
    "from normalise import normalise\n",
    "\n",
    "custom_abbr = {\n",
    "    \"G.O.I\": \"Government Of India\",\n",
    "    \"I.N.R\": \"Indian Rupees\",\n",
    "    \"ttyl\":\"talk to you later\"\n",
    "    \n",
    "}\n",
    "\n",
    "normalized_tokens = normalise(word_tokenize(text), user_abbrevs=custom_abbr, verbose=False)\n",
    "display(f\"Normalized text: {' '.join(normalized_tokens)}\")"
   ]
  },
  {
   "cell_type": "markdown",
   "metadata": {
    "id": "M_ehbn7HeCuC"
   },
   "source": [
    "# Advance cleaning technique 2 - Type corection - To be shown later "
   ]
  },
  {
   "cell_type": "code",
   "execution_count": null,
   "metadata": {
    "id": "5KeQhG65eCuC"
   },
   "outputs": [],
   "source": [
    ""
   ]
  }
 ],
 "metadata": {
  "colab": {
   "name": "Cleaning Text Data (1).ipynb",
   "provenance": []
  },
  "kernelspec": {
   "display_name": "Python 3",
   "language": "python",
   "name": "python3"
  },
  "language_info": {
   "codemirror_mode": {
    "name": "ipython",
    "version": 3
   },
   "file_extension": ".py",
   "mimetype": "text/x-python",
   "name": "python",
   "nbconvert_exporter": "python",
   "pygments_lexer": "ipython3",
   "version": "3.7.3"
  }
 },
 "nbformat": 4,
 "nbformat_minor": 0
}
